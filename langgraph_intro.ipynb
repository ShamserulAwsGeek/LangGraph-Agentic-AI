{
 "cells": [
  {
   "cell_type": "code",
   "execution_count": null,
   "id": "e988c736",
   "metadata": {},
   "outputs": [],
   "source": [
    "from langgraph.graph import graph"
   ]
  },
  {
   "cell_type": "code",
   "execution_count": null,
   "id": "0dfb749a",
   "metadata": {},
   "outputs": [],
   "source": [
    "from langchaih.chain import chatgoq"
   ]
  },
  {
   "cell_type": "code",
   "execution_count": null,
   "id": "6e169028",
   "metadata": {},
   "outputs": [],
   "source": [
    "llm = chatgoq(model=\"llama3-70b-8192\")"
   ]
  },
  {
   "cell_type": "code",
   "execution_count": null,
   "id": "b6e495b3",
   "metadata": {},
   "outputs": [],
   "source": [
    "llm.invoke(\"How are you?\")"
   ]
  },
  {
   "cell_type": "code",
   "execution_count": null,
   "id": "7d78d687",
   "metadata": {},
   "outputs": [],
   "source": [
    "llm.invoke(\"how are you?\").content"
   ]
  },
  {
   "cell_type": "code",
   "execution_count": null,
   "id": "e7ca538a",
   "metadata": {},
   "outputs": [],
   "source": [
    "def function1(input):\n",
    "    llm=chatgroq(model=\"llama3-70b-8192\")\n",
    "    response=llm.invoke(\"how are you?\").content\n",
    "    return response"
   ]
  },
  {
   "cell_type": "code",
   "execution_count": null,
   "id": "ad0156c7",
   "metadata": {},
   "outputs": [],
   "source": [
    "def function2(input):\n",
    "    upper_string= input.upper()\n",
    "    return upper_string"
   ]
  },
  {
   "cell_type": "code",
   "execution_count": null,
   "id": "4e77f818",
   "metadata": {},
   "outputs": [],
   "source": [
    "workflow = graph()"
   ]
  },
  {
   "cell_type": "code",
   "execution_count": null,
   "id": "9980a22c",
   "metadata": {},
   "outputs": [],
   "source": [
    "worlflow.add_node(llm, function1)\n",
    "workflow.add_node(upper_string, function2)\n",
    "workflow.add_edge(llm, upper_string)"
   ]
  },
  {
   "cell_type": "code",
   "execution_count": null,
   "id": "74d89725",
   "metadata": {},
   "outputs": [],
   "source": [
    "workflow.set_entry_point(function1)"
   ]
  },
  {
   "cell_type": "code",
   "execution_count": null,
   "id": "848f2ec1",
   "metadata": {},
   "outputs": [],
   "source": [
    "workflow.set_finish_point(function2)"
   ]
  },
  {
   "cell_type": "code",
   "execution_count": null,
   "id": "b995f42e",
   "metadata": {},
   "outputs": [],
   "source": [
    "app=workflow.compile()\n"
   ]
  },
  {
   "cell_type": "code",
   "execution_count": null,
   "id": "c9d92ce5",
   "metadata": {},
   "outputs": [],
   "source": [
    "from IPython.display import Image, display\n",
    "\n",
    "try:\n",
    "    display(Image(app.get_graph().draw_mermaid_png()))\n",
    "    except Exception as e:\n",
    "        print(e)"
   ]
  },
  {
   "cell_type": "code",
   "execution_count": null,
   "id": "c4e2b1ad",
   "metadata": {},
   "outputs": [],
   "source": [
    "app.invoke(\"How are you?\")"
   ]
  }
 ],
 "metadata": {
  "kernelspec": {
   "display_name": ".venv",
   "language": "python",
   "name": "python3"
  },
  "language_info": {
   "codemirror_mode": {
    "name": "ipython",
    "version": 3
   },
   "file_extension": ".py",
   "mimetype": "text/x-python",
   "name": "python",
   "nbconvert_exporter": "python",
   "pygments_lexer": "ipython3",
   "version": "3.12.8"
  }
 },
 "nbformat": 4,
 "nbformat_minor": 5
}
